{
 "cells": [
  {
   "cell_type": "markdown",
   "id": "0be260ff",
   "metadata": {},
   "source": [
    "## Question 1- Write a Python program to replace all occurrences of a space, comma, or dot with a colon."
   ]
  },
  {
   "cell_type": "code",
   "execution_count": 1,
   "id": "51811799",
   "metadata": {},
   "outputs": [
    {
     "name": "stdout",
     "output_type": "stream",
     "text": [
      "Python:Exercises::PHP:exercises:\n"
     ]
    }
   ],
   "source": [
    "import re\n",
    "\n",
    "string = \"Python Exercises, PHP exercises.\"\n",
    "pattern = \"[ ,.]\"\n",
    "new_string = re.sub(pattern, \":\", string)\n",
    "\n",
    "print(new_string)"
   ]
  },
  {
   "cell_type": "markdown",
   "id": "89d7d528",
   "metadata": {},
   "source": [
    "## Question 2 - Create a dataframe using the dictionary below and remove everything (commas (,), !, XXXX, ;, etc.) from the columns except words."
   ]
  },
  {
   "cell_type": "code",
   "execution_count": 2,
   "id": "23f3fd63",
   "metadata": {},
   "outputs": [
    {
     "data": {
      "text/html": [
       "<div>\n",
       "<style scoped>\n",
       "    .dataframe tbody tr th:only-of-type {\n",
       "        vertical-align: middle;\n",
       "    }\n",
       "\n",
       "    .dataframe tbody tr th {\n",
       "        vertical-align: top;\n",
       "    }\n",
       "\n",
       "    .dataframe thead th {\n",
       "        text-align: right;\n",
       "    }\n",
       "</style>\n",
       "<table border=\"1\" class=\"dataframe\">\n",
       "  <thead>\n",
       "    <tr style=\"text-align: right;\">\n",
       "      <th></th>\n",
       "      <th>SUMMARY</th>\n",
       "    </tr>\n",
       "  </thead>\n",
       "  <tbody>\n",
       "    <tr>\n",
       "      <th>0</th>\n",
       "      <td>hello world</td>\n",
       "    </tr>\n",
       "    <tr>\n",
       "      <th>1</th>\n",
       "      <td>test</td>\n",
       "    </tr>\n",
       "    <tr>\n",
       "      <th>2</th>\n",
       "      <td>four five six</td>\n",
       "    </tr>\n",
       "  </tbody>\n",
       "</table>\n",
       "</div>"
      ],
      "text/plain": [
       "         SUMMARY\n",
       "0    hello world\n",
       "1           test\n",
       "2  four five six"
      ]
     },
     "execution_count": 2,
     "metadata": {},
     "output_type": "execute_result"
    }
   ],
   "source": [
    "import pandas as pd\n",
    "\n",
    "# creating the dic\n",
    "string_dict = {'SUMMARY' : ['hello, world!', 'XXXXX test', '123four, five:; six...']}\n",
    "\n",
    "#creating the dataframe\n",
    "df = pd.DataFrame(string_dict)\n",
    "\n",
    "# function to remmove \n",
    "def remove_special_character(value):\n",
    "    new_string = re.sub(r\"[^\\w\\s]|^XXXXX\\s|[\\d]\", \"\", value)\n",
    "    return new_string\n",
    "df['SUMMARY'] = df['SUMMARY'].apply(remove_special_character)\n",
    "df"
   ]
  },
  {
   "cell_type": "markdown",
   "id": "9ec0cbcb",
   "metadata": {},
   "source": [
    "## Question 3- Create a function in python to find all words that are at least 4 characters long in a string. The use of the re.compile() method is mandatory."
   ]
  },
  {
   "cell_type": "code",
   "execution_count": 3,
   "id": "1aa64ab6",
   "metadata": {},
   "outputs": [
    {
     "data": {
      "text/plain": [
       "['This',\n",
       " 'example',\n",
       " 'finding',\n",
       " 'atleast',\n",
       " 'char',\n",
       " 'long',\n",
       " 'strings',\n",
       " 'from',\n",
       " 'given',\n",
       " 'strings']"
      ]
     },
     "execution_count": 3,
     "metadata": {},
     "output_type": "execute_result"
    }
   ],
   "source": [
    "# Creating a function to find all substrings that are at least 4 characters long in a given string.\n",
    "def find_atleast_4_char_strings(string):\n",
    "    # compile regular pattern     \n",
    "    compile_pattern = re.compile(r\"\\b\\w{4,}\\b\")\n",
    "    return compile_pattern.findall(strings)\n",
    "    \n",
    "strings = \"This is the example of finding atleast 4 char long strings from the given strings.\"\n",
    "findings = find_atleast_4_char_strings(strings)\n",
    "findings"
   ]
  },
  {
   "cell_type": "markdown",
   "id": "a0579adb",
   "metadata": {},
   "source": [
    "## Question 4- Create a function in python to find all three, four, and five character words in a string. The use of the re.compile() method is mandatory."
   ]
  },
  {
   "cell_type": "code",
   "execution_count": 4,
   "id": "7f693309",
   "metadata": {},
   "outputs": [
    {
     "data": {
      "text/plain": [
       "['This', 'the', 'char', 'long', 'from', 'the', 'given']"
      ]
     },
     "execution_count": 4,
     "metadata": {},
     "output_type": "execute_result"
    }
   ],
   "source": [
    "# Create a function to find the strings between 3 to 5 characters in the given string.\n",
    "def find_the_substrings(strings):\n",
    "    # compile regular pattern \n",
    "    compile_pattern = re.compile(r\"\\b\\w{3,5}\\b\")\n",
    "    return compile_pattern.findall(strings)\n",
    "\n",
    "strings = \"This is the example of finding atleast 4 char long strings from the given strings.\"\n",
    "finding = find_the_substrings(strings)\n",
    "finding"
   ]
  },
  {
   "cell_type": "markdown",
   "id": "d1293f6b",
   "metadata": {},
   "source": [
    "## Question 5- Create a function in Python to remove the parenthesis in a list of strings. The use of the re.compile() method is mandatory."
   ]
  },
  {
   "cell_type": "code",
   "execution_count": 5,
   "id": "aca8297f",
   "metadata": {},
   "outputs": [
    {
     "name": "stdout",
     "output_type": "stream",
     "text": [
      "example .com\n",
      "hr@fliprobo .com\n",
      "github .com\n",
      "Hello Data Science World\n",
      "Data Scientist\n"
     ]
    }
   ],
   "source": [
    "# creating the function to remove the parenthesis in the list of strings.\n",
    "def remove_parenthesis_in_strings(strList):\n",
    "    compile_pattern = re.compile(r\"[\\(\\)]\")\n",
    "    return [re.sub(compile_pattern, \"\", string) for string in strList]\n",
    "\n",
    "strList = [\"example (.com)\", \"hr@fliprobo (.com)\", \"github (.com)\", \"Hello (Data Science World)\", \"Data (Scientist)\"]\n",
    "new_list = remove_parenthesis_in_strings(strList)\n",
    "\n",
    "for string in new_list:\n",
    "    print(string)"
   ]
  },
  {
   "cell_type": "markdown",
   "id": "f6100480",
   "metadata": {},
   "source": [
    "## Question 6"
   ]
  },
  {
   "cell_type": "code",
   "execution_count": 6,
   "id": "0001be6f",
   "metadata": {},
   "outputs": [
    {
     "data": {
      "text/plain": [
       "['example', 'hr@fliprobo', 'github', 'Hello', 'Data']"
      ]
     },
     "execution_count": 6,
     "metadata": {},
     "output_type": "execute_result"
    }
   ],
   "source": [
    "# creating the function to read the file\n",
    "def read_the_file(input_from_file):\n",
    "    \n",
    "    pattern = r\"\\s\\(.*\\)\"\n",
    "    new_line = []\n",
    "    # read the file     \n",
    "    with open(input_from_file, 'r') as file:\n",
    "        for line in file:\n",
    "            remove_parenthesis = re.sub(pattern, \"\", line.strip())\n",
    "            new_line.append(remove_parenthesis)\n",
    "        return new_line\n",
    "\n",
    "# Sample text\n",
    "input_from_file = \"sample.txt\"\n",
    "removed_parenthesis = read_the_file(input_from_file)\n",
    "removed_parenthesis"
   ]
  },
  {
   "cell_type": "markdown",
   "id": "d7ecef51",
   "metadata": {},
   "source": [
    "## Question 7"
   ]
  },
  {
   "cell_type": "code",
   "execution_count": 7,
   "id": "4682e9b4",
   "metadata": {},
   "outputs": [
    {
     "name": "stdout",
     "output_type": "stream",
     "text": [
      "['Importance', 'Of', 'Regular', 'Expressions', 'In', 'Python']\n"
     ]
    }
   ],
   "source": [
    "# create the function to split the strings by uppercase\n",
    "def split_strings_by_uppercase(string):\n",
    "    pattern = r\"(?<!^)(?=[A-Z])\" # Positive lookbehind and lookahead for uppercase letters\n",
    "    return re.split(pattern, string)\n",
    "\n",
    "strings = \"ImportanceOfRegularExpressionsInPython\"\n",
    "split_string = split_strings_by_uppercase(strings)\n",
    "print(split_string)"
   ]
  },
  {
   "cell_type": "markdown",
   "id": "2dc96d05",
   "metadata": {},
   "source": [
    "## Question 8"
   ]
  },
  {
   "cell_type": "code",
   "execution_count": 8,
   "id": "13ad1a6a",
   "metadata": {},
   "outputs": [
    {
     "name": "stdout",
     "output_type": "stream",
     "text": [
      "RegularExpression 1IsAn 2ImportantTopic 3InPython "
     ]
    }
   ],
   "source": [
    "# create the function to insert spaces between words starting with numbers\n",
    "def space_between_words(string):\n",
    "    pattern = r\"(?<!^)(?=[0-9])\"\n",
    "    return re.split(pattern, string)\n",
    "\n",
    "strings = \"RegularExpression1IsAn2ImportantTopic3InPython\"\n",
    "split_string = space_between_words(strings)\n",
    "\n",
    "for new_string in split_string:\n",
    "    print(new_string, end=\" \")"
   ]
  },
  {
   "cell_type": "markdown",
   "id": "5e15d2d4",
   "metadata": {},
   "source": [
    "## Question 9"
   ]
  },
  {
   "cell_type": "code",
   "execution_count": 9,
   "id": "8b52fe38",
   "metadata": {},
   "outputs": [
    {
     "name": "stdout",
     "output_type": "stream",
     "text": [
      "RegularExpression 1 IsAn 2 ImportantTopic 3 InPython "
     ]
    }
   ],
   "source": [
    "# create the function to insert spaces before digit and after digit \n",
    "def space_before_after_digit(string):\n",
    "    pattern = r\"([A-Z0-9])(?=[A-Z])\"\n",
    "    return re.split(pattern, string)\n",
    "\n",
    "strings = \"RegularExpression1IsAn2ImportantTopic3InPython\"\n",
    "split_digit = space_before_after_digit(strings)\n",
    "\n",
    "for new_digit in split_digit:\n",
    "    print(new_digit, end=\" \")"
   ]
  },
  {
   "cell_type": "markdown",
   "id": "e650e21b",
   "metadata": {},
   "source": [
    "## Question 10"
   ]
  },
  {
   "cell_type": "code",
   "execution_count": 10,
   "id": "be43f920",
   "metadata": {},
   "outputs": [
    {
     "data": {
      "text/html": [
       "<div>\n",
       "<style scoped>\n",
       "    .dataframe tbody tr th:only-of-type {\n",
       "        vertical-align: middle;\n",
       "    }\n",
       "\n",
       "    .dataframe tbody tr th {\n",
       "        vertical-align: top;\n",
       "    }\n",
       "\n",
       "    .dataframe thead th {\n",
       "        text-align: right;\n",
       "    }\n",
       "</style>\n",
       "<table border=\"1\" class=\"dataframe\">\n",
       "  <thead>\n",
       "    <tr style=\"text-align: right;\">\n",
       "      <th></th>\n",
       "      <th>Country</th>\n",
       "      <th>Region</th>\n",
       "      <th>Happiness Rank</th>\n",
       "      <th>Happiness Score</th>\n",
       "      <th>Standard Error</th>\n",
       "      <th>Economy (GDP per Capita)</th>\n",
       "      <th>Family</th>\n",
       "      <th>Health (Life Expectancy)</th>\n",
       "      <th>Freedom</th>\n",
       "      <th>Trust (Government Corruption)</th>\n",
       "      <th>Generosity</th>\n",
       "      <th>Dystopia Residual</th>\n",
       "      <th>first_five_letters</th>\n",
       "    </tr>\n",
       "  </thead>\n",
       "  <tbody>\n",
       "    <tr>\n",
       "      <th>0</th>\n",
       "      <td>Switzerland</td>\n",
       "      <td>Western Europe</td>\n",
       "      <td>1</td>\n",
       "      <td>7.587</td>\n",
       "      <td>0.03411</td>\n",
       "      <td>1.39651</td>\n",
       "      <td>1.34951</td>\n",
       "      <td>0.94143</td>\n",
       "      <td>0.66557</td>\n",
       "      <td>0.41978</td>\n",
       "      <td>0.29678</td>\n",
       "      <td>2.51738</td>\n",
       "      <td>Switze</td>\n",
       "    </tr>\n",
       "    <tr>\n",
       "      <th>1</th>\n",
       "      <td>Iceland</td>\n",
       "      <td>Western Europe</td>\n",
       "      <td>2</td>\n",
       "      <td>7.561</td>\n",
       "      <td>0.04884</td>\n",
       "      <td>1.30232</td>\n",
       "      <td>1.40223</td>\n",
       "      <td>0.94784</td>\n",
       "      <td>0.62877</td>\n",
       "      <td>0.14145</td>\n",
       "      <td>0.43630</td>\n",
       "      <td>2.70201</td>\n",
       "      <td>Icelan</td>\n",
       "    </tr>\n",
       "    <tr>\n",
       "      <th>2</th>\n",
       "      <td>Denmark</td>\n",
       "      <td>Western Europe</td>\n",
       "      <td>3</td>\n",
       "      <td>7.527</td>\n",
       "      <td>0.03328</td>\n",
       "      <td>1.32548</td>\n",
       "      <td>1.36058</td>\n",
       "      <td>0.87464</td>\n",
       "      <td>0.64938</td>\n",
       "      <td>0.48357</td>\n",
       "      <td>0.34139</td>\n",
       "      <td>2.49204</td>\n",
       "      <td>Denmar</td>\n",
       "    </tr>\n",
       "    <tr>\n",
       "      <th>3</th>\n",
       "      <td>Norway</td>\n",
       "      <td>Western Europe</td>\n",
       "      <td>4</td>\n",
       "      <td>7.522</td>\n",
       "      <td>0.03880</td>\n",
       "      <td>1.45900</td>\n",
       "      <td>1.33095</td>\n",
       "      <td>0.88521</td>\n",
       "      <td>0.66973</td>\n",
       "      <td>0.36503</td>\n",
       "      <td>0.34699</td>\n",
       "      <td>2.46531</td>\n",
       "      <td>Norway</td>\n",
       "    </tr>\n",
       "    <tr>\n",
       "      <th>4</th>\n",
       "      <td>Canada</td>\n",
       "      <td>North America</td>\n",
       "      <td>5</td>\n",
       "      <td>7.427</td>\n",
       "      <td>0.03553</td>\n",
       "      <td>1.32629</td>\n",
       "      <td>1.32261</td>\n",
       "      <td>0.90563</td>\n",
       "      <td>0.63297</td>\n",
       "      <td>0.32957</td>\n",
       "      <td>0.45811</td>\n",
       "      <td>2.45176</td>\n",
       "      <td>Canada</td>\n",
       "    </tr>\n",
       "  </tbody>\n",
       "</table>\n",
       "</div>"
      ],
      "text/plain": [
       "       Country          Region  Happiness Rank  Happiness Score  \\\n",
       "0  Switzerland  Western Europe               1            7.587   \n",
       "1      Iceland  Western Europe               2            7.561   \n",
       "2      Denmark  Western Europe               3            7.527   \n",
       "3       Norway  Western Europe               4            7.522   \n",
       "4       Canada   North America               5            7.427   \n",
       "\n",
       "   Standard Error  Economy (GDP per Capita)   Family  \\\n",
       "0         0.03411                   1.39651  1.34951   \n",
       "1         0.04884                   1.30232  1.40223   \n",
       "2         0.03328                   1.32548  1.36058   \n",
       "3         0.03880                   1.45900  1.33095   \n",
       "4         0.03553                   1.32629  1.32261   \n",
       "\n",
       "   Health (Life Expectancy)  Freedom  Trust (Government Corruption)  \\\n",
       "0                   0.94143  0.66557                        0.41978   \n",
       "1                   0.94784  0.62877                        0.14145   \n",
       "2                   0.87464  0.64938                        0.48357   \n",
       "3                   0.88521  0.66973                        0.36503   \n",
       "4                   0.90563  0.63297                        0.32957   \n",
       "\n",
       "   Generosity  Dystopia Residual first_five_letters  \n",
       "0     0.29678            2.51738             Switze  \n",
       "1     0.43630            2.70201             Icelan  \n",
       "2     0.34139            2.49204             Denmar  \n",
       "3     0.34699            2.46531             Norway  \n",
       "4     0.45811            2.45176             Canada  "
      ]
     },
     "execution_count": 10,
     "metadata": {},
     "output_type": "execute_result"
    }
   ],
   "source": [
    "import pandas as pd\n",
    "df = pd.read_csv(r\"https://raw.githubusercontent.com/dsrscientist/DSData/master/happiness_score_dataset.csv\")\n",
    "\n",
    "# fetching the first 6 letter\n",
    "def fetch_first_letter(string):\n",
    "    pattern = r\"^[A-Za-z]{1,6}\"\n",
    "    return re.match(pattern,string).group()\n",
    "\n",
    "df['first_five_letters'] = df['Country'].apply(fetch_first_letter)\n",
    "df.head()"
   ]
  },
  {
   "cell_type": "markdown",
   "id": "7fd30954",
   "metadata": {},
   "source": [
    "## Question 11"
   ]
  },
  {
   "cell_type": "code",
   "execution_count": 11,
   "id": "eb5259b8",
   "metadata": {},
   "outputs": [
    {
     "name": "stdout",
     "output_type": "stream",
     "text": [
      "HelloWorld123\n",
      "None\n",
      "None\n",
      "123numbers\n"
     ]
    }
   ],
   "source": [
    "# create the function to match the Upper,Lower,numbers, and underscores \n",
    "def match_upper_lower_number_underscores(string):\n",
    "    pattern = r\"^[a-zA-Z0-9_]*$\"\n",
    "    match_group = re.match(pattern, string)\n",
    "    if match_group:\n",
    "        return match_group.group()\n",
    "    return None\n",
    "\n",
    "strings = [\"HelloWorld123\", \"$$$$$$$$$\", \"invalid$tring\", \"123numbers\"]\n",
    "for string in strings:\n",
    "    match_string = match_upper_lower_number_underscores(string)\n",
    "    print(match_string)"
   ]
  },
  {
   "cell_type": "markdown",
   "id": "53922739",
   "metadata": {},
   "source": [
    "## Question 12"
   ]
  },
  {
   "cell_type": "code",
   "execution_count": 12,
   "id": "cfb2d3ba",
   "metadata": {},
   "outputs": [
    {
     "name": "stdout",
     "output_type": "stream",
     "text": [
      "None\n",
      "None\n",
      "None\n",
      "123numbers\n"
     ]
    }
   ],
   "source": [
    "# Create a function to match strings where digits are present at the beginning of the strings.\n",
    "def match_first_digit_string(string):\n",
    "    pattern = r\"^[0-9]\\w*$\"\n",
    "    match_group = re.match(pattern, string)\n",
    "    if match_group:\n",
    "        return match_group.group()\n",
    "    return None\n",
    "\n",
    "strings = [\"HelloWorld123\", \"$$$$$$$$$\", \"invalid$tring\", \"123numbers\"]\n",
    "for string in strings:\n",
    "    match_string = match_first_digit_string(string)\n",
    "    print(match_string)"
   ]
  },
  {
   "cell_type": "markdown",
   "id": "5cddada2",
   "metadata": {},
   "source": [
    "## Question 13"
   ]
  },
  {
   "cell_type": "code",
   "execution_count": 13,
   "id": "da757a61",
   "metadata": {},
   "outputs": [
    {
     "data": {
      "text/plain": [
       "'255.1.40.1'"
      ]
     },
     "execution_count": 13,
     "metadata": {},
     "output_type": "execute_result"
    }
   ],
   "source": [
    "# Create a function to match strings where digits are present at the beginning of the strings.\n",
    "def match_first_digit_string(string):\n",
    "    pattern = r\"^0*\"\n",
    "    match_group = re.sub(pattern, \"\", string)\n",
    "    if match_group:\n",
    "        return match_group\n",
    "    return string\n",
    "\n",
    "match_string = []\n",
    "strings = r\"255.001.040.001\"\n",
    "split_strings = strings.split(\".\") # ['255', '001', '040', '001']\n",
    "for string in split_strings:\n",
    "    match_string.append(match_first_digit_string(string))\n",
    "    match_string\n",
    "match_string = '.'.join(match_string)\n",
    "match_string"
   ]
  },
  {
   "cell_type": "markdown",
   "id": "045d69d3",
   "metadata": {},
   "source": [
    "## Question 14"
   ]
  },
  {
   "cell_type": "code",
   "execution_count": 14,
   "id": "5170750f",
   "metadata": {},
   "outputs": [
    {
     "data": {
      "text/plain": [
       "'August 15th 1947'"
      ]
     },
     "execution_count": 14,
     "metadata": {},
     "output_type": "execute_result"
    }
   ],
   "source": [
    "# creating the function to match the date format in the given strings.\n",
    "def match_date_strings(file_name_text):\n",
    "    pattern = r\"(?P<month>\\b[A-Z][a-z]{2,8})\\s+(?P<day>\\d+(?:st|nd|rd|th)?)\\s+(?P<year>\\d{4})\"\n",
    "    with open(file_name_text, 'r') as file:\n",
    "        read_text = file.read()\n",
    "        match = re.search(pattern, read_text)\n",
    "        if match:\n",
    "            return match.group()\n",
    "        else:\n",
    "            return None\n",
    "\n",
    "filename = \"sample_date.txt\"\n",
    "date_format = match_date_strings(filename)\n",
    "date_format"
   ]
  },
  {
   "cell_type": "markdown",
   "id": "5dace015",
   "metadata": {},
   "source": [
    "## Question 15"
   ]
  },
  {
   "cell_type": "code",
   "execution_count": 15,
   "id": "84fa97ef",
   "metadata": {},
   "outputs": [
    {
     "data": {
      "text/plain": [
       "['fox', 'dog']"
      ]
     },
     "execution_count": 15,
     "metadata": {},
     "output_type": "execute_result"
    }
   ],
   "source": [
    "# creating the function to search the literal words from given strings\n",
    "def search_literal_words(strings, searching_words):\n",
    "    pattern = r\"\\b(\" + \"|\".join(searching_words) + r\")\\b\"\n",
    "    return re.findall(pattern, strings)\n",
    "\n",
    "strings = r'The quick brown fox jumps over the lazy dog.'\n",
    "searching_words = ['fox', 'dog', 'horse']\n",
    "search_word = search_literal_words(strings, searching_words)\n",
    "search_word"
   ]
  },
  {
   "cell_type": "markdown",
   "id": "7ce0a5d7",
   "metadata": {},
   "source": [
    "## Question 16"
   ]
  },
  {
   "cell_type": "code",
   "execution_count": 16,
   "id": "325d3570",
   "metadata": {},
   "outputs": [
    {
     "name": "stdout",
     "output_type": "stream",
     "text": [
      "This word fox present at index 16\n"
     ]
    }
   ],
   "source": [
    "# creating the function to search the literal words with index from given strings\n",
    "def search_literal_words(strings, searching_word):\n",
    "    pattern = fr\"\\b{searching_word}\\b\"\n",
    "    match = re.search(pattern, strings)\n",
    "    if match:\n",
    "        return searching_word, match.start()\n",
    "    else:\n",
    "        return None\n",
    "strings = r'The quick brown fox jumps over the lazy dog.'\n",
    "searching_word = 'fox'\n",
    "search_word, index = search_literal_words(strings, searching_word)\n",
    "print(f\"This word {search_word} present at index {index}\")"
   ]
  },
  {
   "cell_type": "markdown",
   "id": "ba462398",
   "metadata": {},
   "source": [
    "## Question 17"
   ]
  },
  {
   "cell_type": "code",
   "execution_count": 17,
   "id": "2753e822",
   "metadata": {},
   "outputs": [
    {
     "data": {
      "text/plain": [
       "['exercises', 'exercises', 'exercises']"
      ]
     },
     "execution_count": 17,
     "metadata": {},
     "output_type": "execute_result"
    }
   ],
   "source": [
    "# creating the function to find substring from the given strings\n",
    "def search_substrings(strings, substring):\n",
    "    pattern = fr\"{substring}\"\n",
    "    match = re.findall(pattern, strings)\n",
    "    return match\n",
    "\n",
    "strings = r'Python exercises, PHP exercises, C# exercises'\n",
    "substring = 'exercises'\n",
    "new_substrig = search_substrings(strings, substring)\n",
    "new_substrig"
   ]
  },
  {
   "cell_type": "markdown",
   "id": "e4da5f1f",
   "metadata": {},
   "source": [
    "## Question 18"
   ]
  },
  {
   "cell_type": "code",
   "execution_count": 18,
   "id": "b519fed5",
   "metadata": {},
   "outputs": [
    {
     "name": "stdout",
     "output_type": "stream",
     "text": [
      "The search for the word started from index 7, and the occurrences of the search string are: 3.\n"
     ]
    }
   ],
   "source": [
    "# creating the function to find substring from the given strings\n",
    "def search_substrings(strings, substring):\n",
    "    pattern = fr\"{substring}\"\n",
    "    matches = re.search(pattern, strings)\n",
    "    count_occurrences = len(re.findall(pattern, strings))\n",
    "    return matches.start(), count_occurrences\n",
    "\n",
    "strings = r'Python exercises, PHP exercises, C# exercises'\n",
    "substring = 'exercises'\n",
    "index, occurrences = search_substrings(strings, substring)\n",
    "print(f\"The search for the word started from index {index}, and the occurrences of the search string are: {occurrences}.\")"
   ]
  },
  {
   "cell_type": "markdown",
   "id": "e9eb065c",
   "metadata": {},
   "source": [
    "## Question 19"
   ]
  },
  {
   "cell_type": "code",
   "execution_count": 19,
   "id": "52a4b602",
   "metadata": {},
   "outputs": [
    {
     "data": {
      "text/plain": [
       "'18-01-2000'"
      ]
     },
     "execution_count": 19,
     "metadata": {},
     "output_type": "execute_result"
    }
   ],
   "source": [
    "# creating the function to convert date format into dd-mm-yyyy\n",
    "def date_format(date_string):\n",
    "    pattern = r\"^\\d{4}-\\d{2}-\\d{2}?\"\n",
    "    match = re.match(pattern, date_string)\n",
    "    if match:\n",
    "        return \"-\".join(match.string.split(\"-\")[::-1])\n",
    "    else:\n",
    "        return False\n",
    "\n",
    "date_string = r\"2000-01-18\"\n",
    "converted_string = date_format(date_string)\n",
    "converted_string"
   ]
  },
  {
   "cell_type": "markdown",
   "id": "7355c006",
   "metadata": {},
   "source": [
    "## Question 20"
   ]
  },
  {
   "cell_type": "code",
   "execution_count": 20,
   "id": "52327fd7",
   "metadata": {},
   "outputs": [
    {
     "data": {
      "text/plain": [
       "['01.12', '0132.12', '2.31', '145.8', '3.01', '27.25', '0.25']"
      ]
     },
     "execution_count": 20,
     "metadata": {},
     "output_type": "execute_result"
    }
   ],
   "source": [
    "# Creating the function to fetch the decimal numbers with precision of 1 or 2.\n",
    "def decimal_precision(list_strings):\n",
    "    compile_pattern = re.compile(r\"^\\d{1,4}.\\d{1,2}\")\n",
    "    new_list = []\n",
    "    for string in list_strings:\n",
    "        match = compile_pattern.match(string)\n",
    "        new_list.append(match.group())\n",
    "    return new_list\n",
    "    \n",
    "\n",
    "strings = \"01.12 0132.123 2.31875 145.8 3.01 27.25 0.25\"\n",
    "list_strings = strings.split(\" \")\n",
    "match = decimal_precision(list_strings)\n",
    "match"
   ]
  },
  {
   "cell_type": "markdown",
   "id": "17eebc74",
   "metadata": {},
   "source": [
    "## Question 21"
   ]
  },
  {
   "cell_type": "code",
   "execution_count": 21,
   "id": "2bbf47b5",
   "metadata": {},
   "outputs": [
    {
     "data": {
      "text/plain": [
       "'Number: 21 Index: [22:24]'"
      ]
     },
     "execution_count": 21,
     "metadata": {},
     "output_type": "execute_result"
    }
   ],
   "source": [
    "# Creating the function to separate the numbers and print posi with numbers.\n",
    "def separate_numbers_position(strings):\n",
    "    pattern = r\"\\d+\"\n",
    "    for match in re.finditer(pattern, strings):\n",
    "        start_index, end_index = match.span()\n",
    "    return f\"Number: {match.group()} Index: [{start_index}:{end_index}]\"\n",
    "\n",
    "strings = \"This string contained 21 characters.\"\n",
    "match = separate_numbers_position(strings)\n",
    "match"
   ]
  },
  {
   "cell_type": "markdown",
   "id": "cc8867b6",
   "metadata": {},
   "source": [
    "## Question 22"
   ]
  },
  {
   "cell_type": "code",
   "execution_count": 22,
   "id": "9d95ab9b",
   "metadata": {},
   "outputs": [
    {
     "name": "stdout",
     "output_type": "stream",
     "text": [
      "This is the largest number: 950.\n"
     ]
    }
   ],
   "source": [
    "# Creating the function to find out lagest number in the given strings.\n",
    "def find_out_lagest_value(strings):\n",
    "    pattern = r\"\\d+\"\n",
    "    list_value = []\n",
    "    for match in re.finditer(pattern, strings):\n",
    "        list_value.append(int(match.group()))\n",
    "    return max(list_value)\n",
    "    \n",
    "    \n",
    "strings = \"My marks in each semester are: 947, 896, 926, 524, 734, 950, 642\"\n",
    "lagest_number = find_out_lagest_value(strings)\n",
    "print(f\"This is the largest number: {lagest_number}.\")"
   ]
  },
  {
   "cell_type": "markdown",
   "id": "467a141d",
   "metadata": {},
   "source": [
    "## Question 23"
   ]
  },
  {
   "cell_type": "code",
   "execution_count": 23,
   "id": "5a13c632",
   "metadata": {},
   "outputs": [
    {
     "data": {
      "text/plain": [
       "'Regular Expression Is An Important Topic In Python'"
      ]
     },
     "execution_count": 23,
     "metadata": {},
     "output_type": "execute_result"
    }
   ],
   "source": [
    "#creating the function to insert the spaces between capital alphabets.\n",
    "def insert_spaces_between_capital_alphabets(strings):\n",
    "    pattern = r\"(?<!^)(?=[A-Z])\"\n",
    "    match = re.sub(pattern, \" \", strings)\n",
    "    return match\n",
    "    \n",
    "    \n",
    "strings = r\"RegularExpressionIsAnImportantTopicInPython\"\n",
    "match = insert_spaces_between_capital_alphabets(strings)\n",
    "match"
   ]
  },
  {
   "cell_type": "markdown",
   "id": "2a26e6d8",
   "metadata": {},
   "source": [
    "## Question 24"
   ]
  },
  {
   "cell_type": "code",
   "execution_count": 24,
   "id": "720a69f2",
   "metadata": {},
   "outputs": [
    {
     "name": "stdout",
     "output_type": "stream",
     "text": [
      "['Regular']\n",
      "['Expresion']\n",
      "['Important']\n",
      "['Topic']\n",
      "['Python']\n"
     ]
    }
   ],
   "source": [
    "# Creating the function to find the uppercase strings followed by lowercase strings.\n",
    "def find_uppercase_followed_lowercase(strings):\n",
    "    pattern = r\"[A-Z][a-z]+\"\n",
    "    new_list = []\n",
    "    for string in strings:\n",
    "        match = re.findall(pattern, string)\n",
    "        if match:\n",
    "            new_list.append(match)\n",
    "    return new_list\n",
    "        \n",
    "    \n",
    "strings = r\"Regular Expresion is an Important Topic in Python\"\n",
    "list_strings = strings.split(\" \")\n",
    "matches = find_uppercase_followed_lowercase(list_strings)\n",
    "for match in matches:\n",
    "    print(match)"
   ]
  },
  {
   "cell_type": "markdown",
   "id": "4e6026b0",
   "metadata": {},
   "source": [
    "## Question 25"
   ]
  },
  {
   "cell_type": "code",
   "execution_count": 25,
   "id": "69567c98",
   "metadata": {},
   "outputs": [
    {
     "data": {
      "text/plain": [
       "'Hello hello world'"
      ]
     },
     "execution_count": 25,
     "metadata": {},
     "output_type": "execute_result"
    }
   ],
   "source": [
    "# Creating the function to remove the duplication continuous words.\n",
    "def remove_duplicate_words(strings):\n",
    "    pattern = r\"\\b(\\w+)(?:\\s+\\1\\b)+\"\n",
    "    match = re.sub(pattern, r\"\\1\", strings)\n",
    "    return match\n",
    "        \n",
    "    \n",
    "strings = r\"Hello hello world world\"\n",
    "matches = remove_duplicate_words(strings)\n",
    "matches"
   ]
  },
  {
   "cell_type": "markdown",
   "id": "7d109f5f",
   "metadata": {},
   "source": [
    "## Question 26"
   ]
  },
  {
   "cell_type": "code",
   "execution_count": 26,
   "id": "c3e641c4",
   "metadata": {},
   "outputs": [
    {
     "data": {
      "text/plain": [
       "['randomString123', '123welcome']"
      ]
     },
     "execution_count": 26,
     "metadata": {},
     "output_type": "execute_result"
    }
   ],
   "source": [
    "# Creating the function to accept the string ending with alphanumeric character.\n",
    "def accept_strnumeric(list_strings):\n",
    "    pattern = r\"[A-Za-z0-9]+\\d\\w+\"\n",
    "    new_list = []\n",
    "    for string in list_strings:\n",
    "        match = re.match(pattern, string)\n",
    "        if match:\n",
    "            new_list.append(match.group())\n",
    "    return new_list\n",
    "\n",
    "strings = r\"randomString123 python_is_great! 123welcome\"\n",
    "list_strings = strings.split(\" \")\n",
    "match = accept_strnumeric(list_strings)\n",
    "match"
   ]
  },
  {
   "cell_type": "markdown",
   "id": "d7b4a6a9",
   "metadata": {},
   "source": [
    "## Question 27"
   ]
  },
  {
   "cell_type": "code",
   "execution_count": 27,
   "id": "f9bf028f",
   "metadata": {},
   "outputs": [
    {
     "data": {
      "text/plain": [
       "['#Doltiwal', '#xyzabc', '#Demonetization']"
      ]
     },
     "execution_count": 27,
     "metadata": {},
     "output_type": "execute_result"
    }
   ],
   "source": [
    "# Creating the function to fetch the hashtags string.\n",
    "def find_hashtags_strings(list_strings):\n",
    "    pattern = r\"#\\w+\"\n",
    "    new_list = []\n",
    "    for string in list_strings:\n",
    "        match = re.match(pattern, string)\n",
    "        if match:\n",
    "            new_list.append(match.group())\n",
    "    return new_list\n",
    "\n",
    "strings = r\"\"\"RT @kapil_kausik: #Doltiwal I mean #xyzabc is \"hurt\" by #Demonetization as the same has rendered USELESS <ed><U+00A0><U+00BD><ed><U+00B1><U+0089> \"acquired funds\" No wo\"\"\"\n",
    "list_strings = strings.split(\" \")\n",
    "match = find_hashtags_strings(list_strings)\n",
    "match"
   ]
  },
  {
   "cell_type": "markdown",
   "id": "ae814331",
   "metadata": {},
   "source": [
    "## Question 28"
   ]
  },
  {
   "cell_type": "code",
   "execution_count": 28,
   "id": "53f84e8c",
   "metadata": {},
   "outputs": [
    {
     "data": {
      "text/plain": [
       "'@Jags123456 Bharat band on 28??<ed><ed>Those who  are protesting #demonetization  are all different party leaders'"
      ]
     },
     "execution_count": 28,
     "metadata": {},
     "output_type": "execute_result"
    }
   ],
   "source": [
    "# Creating the function to remove the <U+....> from given strings.\n",
    "def remove_specific_strings(strings):\n",
    "    pattern = r\"<U\\+0{2}\\w{1,2}>\"\n",
    "    match = re.sub(pattern, \"\", strings)\n",
    "    return match\n",
    "\n",
    "strings = \"@Jags123456 Bharat band on 28??<ed><U+00A0><U+00BD><ed><U+00B8><U+0082>Those who  are protesting #demonetization  are all different party leaders\"\n",
    "match = remove_specific_strings(strings)\n",
    "match"
   ]
  },
  {
   "cell_type": "markdown",
   "id": "40527d85",
   "metadata": {},
   "source": [
    "## Question 29"
   ]
  },
  {
   "cell_type": "code",
   "execution_count": 29,
   "id": "792de907",
   "metadata": {},
   "outputs": [
    {
     "data": {
      "text/plain": [
       "['12-09-1992', '15-12-1999']"
      ]
     },
     "execution_count": 29,
     "metadata": {},
     "output_type": "execute_result"
    }
   ],
   "source": [
    "# Create a function to fetch date from given txt file.\n",
    "def fetch_date_from_txt(file_name):\n",
    "    pattern = r\"\\b[\\d]{2}-[\\d]{2}-[\\d]{4}\"\n",
    "    with open(file_name, 'r') as file:\n",
    "        file_read = file.read()\n",
    "        match = re.findall(pattern, file_read)\n",
    "    return match\n",
    "        \n",
    "file_name = \"fetch_date.txt\"\n",
    "match = fetch_date_from_txt(file_name)\n",
    "match"
   ]
  },
  {
   "cell_type": "markdown",
   "id": "3c15559f",
   "metadata": {},
   "source": [
    "## Question 30"
   ]
  },
  {
   "cell_type": "code",
   "execution_count": 30,
   "id": "e3d70bb9",
   "metadata": {},
   "outputs": [
    {
     "data": {
      "text/plain": [
       "'following example creates ArrayList a capacity elements. 4 elements added ArrayList ArrayList trimmed accordingly.'"
      ]
     },
     "execution_count": 30,
     "metadata": {},
     "output_type": "execute_result"
    }
   ],
   "source": [
    "# Create a function to remove all words containing two to four characters from the given string.\n",
    "def remove_all_words_contained_two_four_char(strings):\n",
    "    compile_pattern = re.compile(r\"\\b\\w{2,4}\\s\\b\")\n",
    "    match = compile_pattern.sub(\"\",strings)\n",
    "    if match:\n",
    "        return match\n",
    "    return False\n",
    "\n",
    "strings = r\"The following example creates an ArrayList with a capacity of 50 elements. 4 elements are then added to the ArrayList and the ArrayList is trimmed accordingly.\"\n",
    "match = remove_all_words_contained_two_four_char(strings)\n",
    "match"
   ]
  },
  {
   "cell_type": "code",
   "execution_count": null,
   "id": "b0dee643",
   "metadata": {},
   "outputs": [],
   "source": []
  }
 ],
 "metadata": {
  "kernelspec": {
   "display_name": "Python 3 (ipykernel)",
   "language": "python",
   "name": "python3"
  },
  "language_info": {
   "codemirror_mode": {
    "name": "ipython",
    "version": 3
   },
   "file_extension": ".py",
   "mimetype": "text/x-python",
   "name": "python",
   "nbconvert_exporter": "python",
   "pygments_lexer": "ipython3",
   "version": "3.10.9"
  }
 },
 "nbformat": 4,
 "nbformat_minor": 5
}
